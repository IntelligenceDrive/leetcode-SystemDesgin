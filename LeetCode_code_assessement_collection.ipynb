{
  "nbformat": 4,
  "nbformat_minor": 0,
  "metadata": {
    "colab": {
      "provenance": [],
      "authorship_tag": "ABX9TyOj/3asx5T8EAJn2A7oxpcS",
      "include_colab_link": true
    },
    "kernelspec": {
      "name": "python3",
      "display_name": "Python 3"
    },
    "language_info": {
      "name": "python"
    }
  },
  "cells": [
    {
      "cell_type": "markdown",
      "metadata": {
        "id": "view-in-github",
        "colab_type": "text"
      },
      "source": [
        "<a href=\"https://colab.research.google.com/github/IntelligenceDrive/leetcode-SystemDesgin/blob/main/LeetCode_code_assessement_collection.ipynb\" target=\"_parent\"><img src=\"https://colab.research.google.com/assets/colab-badge.svg\" alt=\"Open In Colab\"/></a>"
      ]
    },
    {
      "cell_type": "code",
      "execution_count": null,
      "metadata": {
        "id": "RcFwSAajso6B"
      },
      "outputs": [],
      "source": [
        "from collections import Counter\n",
        "import heapq"
      ]
    },
    {
      "cell_type": "code",
      "source": [
        "class Solution:\n",
        "    def topKFrequent(self, nums: list[int], k: int) -> list[int]:\n",
        "        # Step 1: Count the frequency of each element\n",
        "        counts = Counter(nums)\n",
        "\n",
        "        # Step 2: Use a heap to keep track of the top k elements\n",
        "        # The heap stores tuples in the form (-frequency, element) to simulate a max-heap\n",
        "        heap = [(-freq, num) for num, freq in counts.items()]\n",
        "\n",
        "        # Step 3: Convert the list into a heap structure\n",
        "        heapq.heapify(heap)\n",
        "\n",
        "        # Step 4: Extract the k most frequent elements\n",
        "        top_k = [heapq.heappop(heap)[1] for _ in range(k)]\n",
        "\n",
        "        return top_k"
      ],
      "metadata": {
        "id": "7EileXBTsrrq"
      },
      "execution_count": null,
      "outputs": []
    },
    {
      "cell_type": "code",
      "source": [
        "nums = [1, 1, 1, 2, 2, 3]\n",
        "k = 2\n",
        "solution = Solution()\n",
        "print(solution.topKFrequent(nums, k))  # Output: [1, 2]"
      ],
      "metadata": {
        "colab": {
          "base_uri": "https://localhost:8080/"
        },
        "id": "7tIeRAnLsy3R",
        "outputId": "772d4ba8-364e-48d8-d65b-2ab46afc3c69"
      },
      "execution_count": null,
      "outputs": [
        {
          "output_type": "stream",
          "name": "stdout",
          "text": [
            "[1, 2]\n"
          ]
        }
      ]
    },
    {
      "cell_type": "code",
      "source": [
        "def solution(matrix):\n",
        "    rows, cols = len(matrix), len(matrix[0])\n",
        "    max_length = 0\n",
        "\n",
        "    # All four diagonal directions\n",
        "    directions = [(-1, -1), (-1, 1), (1, -1), (1, 1)]\n",
        "\n",
        "    def in_bounds(r, c):\n",
        "        return 0 <= r < rows and 0 <= c < cols\n",
        "\n",
        "    # Expected value at position i in the sequence: [1, 2, 0, 2, 0, ...]\n",
        "    def expected(step):\n",
        "        if step == 0:\n",
        "            return 1\n",
        "        return 2 if step % 2 == 1 else 0\n",
        "\n",
        "    # Search diagonally starting at (r, c) in direction (dr, dc)\n",
        "    def walk(r, c, dr, dc):\n",
        "        step = 0\n",
        "        while in_bounds(r, c) and matrix[r][c] == expected(step):\n",
        "            step += 1\n",
        "            r += dr\n",
        "            c += dc\n",
        "        return step\n",
        "\n",
        "    # Try all possible starting points with value 1\n",
        "    for i in range(rows):\n",
        "        for j in range(cols):\n",
        "            #if matrix[i][j] != 1:\n",
        "            #    continue\n",
        "            for dr, dc in directions:\n",
        "                max_length = max(max_length, walk(i, j, dr, dc))\n",
        "\n",
        "    return max_length"
      ],
      "metadata": {
        "id": "MuCCdlZgVd9R"
      },
      "execution_count": null,
      "outputs": []
    },
    {
      "cell_type": "code",
      "source": [
        "matrix = [\n",
        "    [0, 0, 1, 1],\n",
        "    [2, 2, 2, 0],\n",
        "    [2, 1, 0, 1]\n",
        "]\n",
        "\n",
        "print(solution(matrix))  # Output: 3"
      ],
      "metadata": {
        "colab": {
          "base_uri": "https://localhost:8080/"
        },
        "id": "TNrqHOdhVfsz",
        "outputId": "587ea124-b253-4878-ffe4-bd601e9ec484"
      },
      "execution_count": null,
      "outputs": [
        {
          "output_type": "stream",
          "name": "stdout",
          "text": [
            "3\n"
          ]
        }
      ]
    },
    {
      "cell_type": "code",
      "source": [
        "\n",
        "assert solution([[2]]) == 0\n",
        "assert solution([[1]]) == 1\n",
        "assert solution([[1,2,0]]) == 1  # not diagonal\n",
        "A = [[1, 2, 0],\n",
        "    [2, 2, 2],\n",
        "    [0, 2, 0]]\n",
        "assert solution(A) == 3  # top-left to bottom-right: 1 → 2 → 0"
      ],
      "metadata": {
        "id": "tIXV8N8Jy9Xw"
      },
      "execution_count": null,
      "outputs": []
    },
    {
      "cell_type": "code",
      "source": [
        "def solution(symbolPairs):\n",
        "    from collections import defaultdict\n",
        "\n",
        "    # Step 1: Build adjacency list\n",
        "    adj = defaultdict(list)\n",
        "    for a, b in symbolPairs:\n",
        "        adj[a].append(b)\n",
        "        adj[b].append(a)\n",
        "\n",
        "    # Step 2: Pick any start node (guaranteed 2 neighbors)\n",
        "    start = next(iter(adj))\n",
        "    # iter(adj) creates an iterator over the dictionary's keys.\n",
        "    # next(...) gives the first key from that iterator — which becomes our starting symbol.\n",
        "    result = [start]\n",
        "    visited = set([start])\n",
        "\n",
        "    # Step 3: Walk through the cycle\n",
        "    prev = None\n",
        "    curr = start\n",
        "\n",
        "    while True:\n",
        "        found_next = False\n",
        "        for neighbor in adj[curr]:\n",
        "            if neighbor != prev:\n",
        "                if neighbor in visited:\n",
        "                    return result  # cycle complete\n",
        "                result.append(neighbor)\n",
        "                visited.add(neighbor)\n",
        "                prev, curr = curr, neighbor\n",
        "                found_next = True\n",
        "                break\n",
        "\n",
        "        if not found_next:  # 没找到有效邻居\n",
        "            return result  # 或者抛出异常"
      ],
      "metadata": {
        "id": "FHZPHIHYVQcG"
      },
      "execution_count": null,
      "outputs": []
    },
    {
      "cell_type": "code",
      "source": [
        "symbolPairs = [[3, 5], [1, 4], [2, 4], [1, 5], [2, 3]]\n",
        "\n",
        "print(solution(symbolPairs))  # Output: [3, 5, 1, 4, 2] (or any rotation/reverse)"
      ],
      "metadata": {
        "colab": {
          "base_uri": "https://localhost:8080/"
        },
        "id": "JBwI6x5kWnFu",
        "outputId": "0b7e9018-cb60-4164-f0fb-8f0f702759f6"
      },
      "execution_count": null,
      "outputs": [
        {
          "output_type": "stream",
          "name": "stdout",
          "text": [
            "[3, 5, 1, 4, 2]\n"
          ]
        }
      ]
    },
    {
      "cell_type": "code",
      "source": [
        "symbolPairs = [[1, 2], [2, 3]]\n",
        "print(solution(symbolPairs))  # Output: [3, 5, 1, 4, 2] (or any rotation/reverse)"
      ],
      "metadata": {
        "colab": {
          "base_uri": "https://localhost:8080/"
        },
        "id": "rxj22SFiek6J",
        "outputId": "3f1d295e-8972-4312-e1ca-2bbe2dc71238"
      },
      "execution_count": null,
      "outputs": [
        {
          "output_type": "stream",
          "name": "stdout",
          "text": [
            "[1, 2, 3]\n"
          ]
        }
      ]
    },
    {
      "cell_type": "code",
      "source": [
        "symbolPairs = [[1, 2], [2, 3], [2, 4]]\n",
        "print(solution(symbolPairs))  # Output: [3, 5, 1, 4, 2] (or any rotation/reverse)"
      ],
      "metadata": {
        "colab": {
          "base_uri": "https://localhost:8080/"
        },
        "id": "ItRuCHreelOT",
        "outputId": "56d2716f-b4fd-4cef-d626-9400698c141a"
      },
      "execution_count": null,
      "outputs": [
        {
          "output_type": "stream",
          "name": "stdout",
          "text": [
            "[1, 2, 3]\n"
          ]
        }
      ]
    },
    {
      "cell_type": "code",
      "source": [
        "symbolPairs = [[1, 2]]\n",
        "print(solution(symbolPairs))  # Output: [3, 5, 1, 4, 2] (or any rotation/reverse)"
      ],
      "metadata": {
        "colab": {
          "base_uri": "https://localhost:8080/"
        },
        "id": "e9HZGckSerz9",
        "outputId": "890d9e58-70be-4699-b8ca-24b41cba728a"
      },
      "execution_count": null,
      "outputs": [
        {
          "output_type": "stream",
          "name": "stdout",
          "text": [
            "[1, 2]\n"
          ]
        }
      ]
    },
    {
      "cell_type": "code",
      "source": [
        "import heapq\n",
        "\n",
        "nums = [5, 3, 8, 1]\n",
        "heapq.heapify(nums)\n",
        "print(nums)  # [1, 3, 8, 5] → Not fully sorted, but satisfies heap property (min-heap)\n"
      ],
      "metadata": {
        "colab": {
          "base_uri": "https://localhost:8080/"
        },
        "id": "6SNpl7ie-9MW",
        "outputId": "66bd1ce6-ba46-4dab-eb70-bbb25f1aa081"
      },
      "execution_count": null,
      "outputs": [
        {
          "output_type": "stream",
          "name": "stdout",
          "text": [
            "[1, 3, 8, 5]\n"
          ]
        }
      ]
    },
    {
      "cell_type": "code",
      "source": [
        "x = heapq.heappop(nums)\n",
        "print(x)      # 1\n",
        "print(nums)   # [3, 5, 8]"
      ],
      "metadata": {
        "colab": {
          "base_uri": "https://localhost:8080/"
        },
        "id": "IPMp4ra__Exq",
        "outputId": "7335cea8-9dfb-41a9-efef-2913a0a0a973"
      },
      "execution_count": null,
      "outputs": [
        {
          "output_type": "stream",
          "name": "stdout",
          "text": [
            "1\n",
            "[3, 5, 8]\n"
          ]
        }
      ]
    },
    {
      "cell_type": "code",
      "source": [
        "heapq.heappush(nums, 2)\n",
        "print(nums)  # [2, 3, 8, 5]"
      ],
      "metadata": {
        "id": "4Qd102Ow_QS5",
        "outputId": "6ab450f8-420b-41be-f7ed-1f5a2bb3fb6a",
        "colab": {
          "base_uri": "https://localhost:8080/"
        }
      },
      "execution_count": null,
      "outputs": [
        {
          "output_type": "stream",
          "name": "stdout",
          "text": [
            "[2, 3, 8, 5]\n"
          ]
        }
      ]
    },
    {
      "cell_type": "code",
      "source": [
        "class ListNode:\n",
        "    def __init__(self, val=0, next=None):\n",
        "        self.val = val\n",
        "        self.next = next\n",
        "\n",
        "class LinkedList:\n",
        "    def __init__(self):\n",
        "        self.head = None\n",
        "\n",
        "    def append(self, val):\n",
        "        if not self.head:\n",
        "            self.head = ListNode(val)\n",
        "            return\n",
        "        current = self.head\n",
        "        while current.next:\n",
        "            current = current.next\n",
        "        current.next = ListNode(val)\n",
        "\n",
        "    def print_list(self):\n",
        "        current = self.head\n",
        "        while current:\n",
        "            print(current.val, end=\" -> \")\n",
        "            #print(current.val, \" -> \")\n",
        "            current = current.next\n",
        "        print(\"None\")\n",
        "\n",
        "\n",
        "ll = LinkedList()\n",
        "ll.append(1)\n",
        "ll.append(2)\n",
        "ll.append(3)\n",
        "ll.print_list()  # 输出: 1 -> 2 -> 3 -> None"
      ],
      "metadata": {
        "colab": {
          "base_uri": "https://localhost:8080/"
        },
        "id": "tDvUnjqZpXMY",
        "outputId": "fb431b02-d9d8-413f-8d48-1d410df1cb79"
      },
      "execution_count": null,
      "outputs": [
        {
          "output_type": "stream",
          "name": "stdout",
          "text": [
            "1 -> 2 -> 3 -> None\n"
          ]
        }
      ]
    },
    {
      "cell_type": "code",
      "source": [
        "def reverseList(head):\n",
        "    prev = None\n",
        "    current = head\n",
        "    while current:\n",
        "        next_node = current.next\n",
        "        current.next = prev\n",
        "        prev = current\n",
        "        current = next_node\n",
        "    return prev\n",
        "\n",
        "\n",
        "\n",
        "ll = LinkedList()\n",
        "for i in range(5):\n",
        "    ll.append(i)\n",
        "ll.head = reverseList(ll.head)  # 使用之前定义的反转函数\n",
        "ll.print_list()  # 输出: 4 -> 3 -> 2 -> 1 -> 0 -> None"
      ],
      "metadata": {
        "colab": {
          "base_uri": "https://localhost:8080/"
        },
        "id": "wB0U-B5YpOJy",
        "outputId": "94c3d466-3b29-41dc-ab36-4051a12857db"
      },
      "execution_count": null,
      "outputs": [
        {
          "output_type": "stream",
          "name": "stdout",
          "text": [
            "4 -> 3 -> 2 -> 1 -> 0 -> None\n"
          ]
        }
      ]
    }
  ]
}